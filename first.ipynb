{
 "cells": [
  {
   "cell_type": "code",
   "execution_count": 1,
   "id": "2402cd7d",
   "metadata": {},
   "outputs": [],
   "source": [
    "import torch\n",
    "import torch.nn as nn\n",
    "import torch.optim as optim\n",
    "from torchvision import datasets, transforms, models\n",
    "from torch.utils.data import DataLoader, Subset\n",
    "import numpy as np\n"
   ]
  },
  {
   "cell_type": "code",
   "execution_count": 2,
   "id": "ec3858d4",
   "metadata": {},
   "outputs": [],
   "source": [
    "\n",
    "# ====================== Configuration ======================\n",
    "device = torch.device(\"cuda\" if torch.cuda.is_available() else \"cpu\")\n",
    "batch_size = 128\n",
    "learning_rate = 0.1\n",
    "num_epochs = 5             # epochs to train initial model\n",
    "ssd_lambda = 1e-3           # strength of synaptic dampening\n",
    "forget_classes = [0, 1]     # CIFAR-10 classes to forget (e.g., 0: airplane, 1: automobile)\n"
   ]
  },
  {
   "cell_type": "code",
   "execution_count": 3,
   "id": "ece84247",
   "metadata": {},
   "outputs": [],
   "source": [
    "\n",
    "# ====================== Data Preparation ======================\n",
    "transform_train = transforms.Compose([\n",
    "    transforms.RandomCrop(32, padding=4),\n",
    "    transforms.RandomHorizontalFlip(),\n",
    "    transforms.ToTensor(),\n",
    "    transforms.Normalize((0.4914, 0.4822, 0.4465), (0.247, 0.243, 0.261))\n",
    "])\n",
    "transform_test = transforms.Compose([\n",
    "    transforms.ToTensor(),\n",
    "    transforms.Normalize((0.4914, 0.4822, 0.4465), (0.247, 0.243, 0.261))\n",
    "])\n"
   ]
  },
  {
   "cell_type": "code",
   "execution_count": 4,
   "id": "1ba7401f",
   "metadata": {},
   "outputs": [],
   "source": [
    "full_train = datasets.CIFAR10(root='./data', train=True, download=True, transform=transform_train)\n",
    "full_test = datasets.CIFAR10(root='./data', train=False, download=True, transform=transform_test)\n",
    "\n",
    "# Subsample 5000 train images and 1000 test images\n",
    "np.random.seed(42)\n",
    "train_idx = np.random.permutation(len(full_train))[:5000]\n",
    "test_idx = np.random.permutation(len(full_test))[:1000]\n",
    "\n",
    "train_dataset = Subset(full_train, train_idx)\n",
    "train_loader = DataLoader(train_dataset, batch_size=batch_size, shuffle=True, num_workers=4)\n",
    "\n",
    "test_dataset = Subset(full_test, test_idx)\n",
    "test_loader = DataLoader(test_dataset, batch_size=batch_size, shuffle=False, num_workers=4)\n",
    "\n",
    "# Create forget subset within the small training set\n",
    "forget_indices = [i for i, (_, t) in enumerate(train_dataset) if t in forget_classes]\n",
    "forget_subset = Subset(train_dataset, forget_indices)\n",
    "forget_loader = DataLoader(forget_subset, batch_size=batch_size, shuffle=True, num_workers=4)"
   ]
  },
  {
   "cell_type": "code",
   "execution_count": 5,
   "id": "3349b220",
   "metadata": {},
   "outputs": [
    {
     "name": "stderr",
     "output_type": "stream",
     "text": [
      "/home/sameer/.local/lib/python3.10/site-packages/torchvision/models/_utils.py:208: UserWarning: The parameter 'pretrained' is deprecated since 0.13 and may be removed in the future, please use 'weights' instead.\n",
      "  warnings.warn(\n",
      "/home/sameer/.local/lib/python3.10/site-packages/torchvision/models/_utils.py:223: UserWarning: Arguments other than a weight enum or `None` for 'weights' are deprecated since 0.13 and may be removed in the future. The current behavior is equivalent to passing `weights=None`.\n",
      "  warnings.warn(msg)\n"
     ]
    }
   ],
   "source": [
    "# ==================== Model, Loss, Optimizer ======================\n",
    "model = models.resnet18(pretrained=False, num_classes=10).to(device)\n",
    "criterion = nn.CrossEntropyLoss()\n",
    "optimizer = optim.SGD(model.parameters(), lr=learning_rate, momentum=0.9, weight_decay=5e-4)\n"
   ]
  },
  {
   "cell_type": "code",
   "execution_count": 6,
   "id": "f62c4594",
   "metadata": {},
   "outputs": [],
   "source": [
    "\n",
    "# ====================== Training Function ======================\n",
    "def train(model, loader, criterion, optimizer, device):\n",
    "    model.train()\n",
    "    running_loss = 0.0\n",
    "    correct = 0\n",
    "    total = 0\n",
    "    for inputs, targets in loader:\n",
    "        inputs, targets = inputs.to(device), targets.to(device)\n",
    "        optimizer.zero_grad()\n",
    "        outputs = model(inputs)\n",
    "        loss = criterion(outputs, targets)\n",
    "        loss.backward()\n",
    "        optimizer.step()\n",
    "\n",
    "        running_loss += loss.item() * inputs.size(0)\n",
    "        _, preds = outputs.max(1)\n",
    "        correct += preds.eq(targets).sum().item()\n",
    "        total += targets.size(0)\n",
    "    return running_loss / total, correct / total\n"
   ]
  },
  {
   "cell_type": "code",
   "execution_count": 7,
   "id": "298479f9",
   "metadata": {},
   "outputs": [],
   "source": [
    "\n",
    "# ====================== Evaluation Function ======================\n",
    "def evaluate(model, loader, criterion, device):\n",
    "    model.eval()\n",
    "    running_loss = 0.0\n",
    "    correct = 0\n",
    "    total = 0\n",
    "    with torch.no_grad():\n",
    "        for inputs, targets in loader:\n",
    "            inputs, targets = inputs.to(device), targets.to(device)\n",
    "            outputs = model(inputs)\n",
    "            loss = criterion(outputs, targets)\n",
    "\n",
    "            running_loss += loss.item() * inputs.size(0)\n",
    "            _, preds = outputs.max(1)\n",
    "            correct += preds.eq(targets).sum().item()\n",
    "            total += targets.size(0)\n",
    "    return running_loss / total, correct / total\n"
   ]
  },
  {
   "cell_type": "code",
   "execution_count": 8,
   "id": "a90c2593",
   "metadata": {},
   "outputs": [
    {
     "name": "stdout",
     "output_type": "stream",
     "text": [
      "Starting initial training on all images...\n"
     ]
    },
    {
     "name": "stdout",
     "output_type": "stream",
     "text": [
      "Epoch 1/5 - Train loss: 4.0945, Train acc: 0.1292, Test acc: 0.1170\n",
      "Epoch 2/5 - Train loss: 3.2387, Train acc: 0.1404, Test acc: 0.1670\n",
      "Epoch 3/5 - Train loss: 2.7102, Train acc: 0.1752, Test acc: 0.2050\n",
      "Epoch 4/5 - Train loss: 2.4321, Train acc: 0.1596, Test acc: 0.1830\n",
      "Epoch 5/5 - Train loss: 2.3879, Train acc: 0.1562, Test acc: 0.1690\n"
     ]
    }
   ],
   "source": [
    "\n",
    "# ====================== Initial Training ======================\n",
    "print(\"Starting initial training on all images...\")\n",
    "for epoch in range(num_epochs):\n",
    "    train_loss, train_acc = train(model, train_loader, criterion, optimizer, device)\n",
    "    test_loss, test_acc = evaluate(model, test_loader, criterion, device)\n",
    "    print(f\"Epoch {epoch+1}/{num_epochs} - Train loss: {train_loss:.4f}, \"\n",
    "          f\"Train acc: {train_acc:.4f}, Test acc: {test_acc:.4f}\")\n"
   ]
  },
  {
   "cell_type": "code",
   "execution_count": 9,
   "id": "68bcbf23",
   "metadata": {},
   "outputs": [
    {
     "name": "stdout",
     "output_type": "stream",
     "text": [
      "Computing Fisher Information on forget subset...\n"
     ]
    }
   ],
   "source": [
    "\n",
    "# ====================== Compute Fisher Information ======================\n",
    "def compute_fisher(model, loader, criterion, device):\n",
    "    model.eval()\n",
    "    fisher = {name: torch.zeros_like(param) for name, param in model.named_parameters() if param.requires_grad}\n",
    "    num_samples = 0\n",
    "\n",
    "    for inputs, targets in loader:\n",
    "        inputs, targets = inputs.to(device), targets.to(device)\n",
    "        model.zero_grad()\n",
    "        outputs = model(inputs)\n",
    "        loss = criterion(outputs, targets)\n",
    "        loss.backward()\n",
    "        num_samples += 1\n",
    "        for name, param in model.named_parameters():\n",
    "            if param.requires_grad and param.grad is not None:\n",
    "                fisher[name] += param.grad.data.clone().pow(2)\n",
    "\n",
    "    for name in fisher:\n",
    "        fisher[name] /= num_samples\n",
    "    return fisher\n",
    "\n",
    "print(\"Computing Fisher Information on forget subset...\")\n",
    "fisher_info = compute_fisher(model, forget_loader, criterion, device)\n"
   ]
  },
  {
   "cell_type": "code",
   "execution_count": 10,
   "id": "65601723",
   "metadata": {},
   "outputs": [
    {
     "name": "stdout",
     "output_type": "stream",
     "text": [
      "Performing SSD unlearning...\n",
      "Applied SSD unlearning step.\n",
      "After SSD unlearning - Test loss: 2.1990, Test acc: 0.1690\n"
     ]
    }
   ],
   "source": [
    "\n",
    "# ====================== Selective Synaptic Dampening ======================\n",
    "def selective_synaptic_dampening(model, fisher_info, lmbda):\n",
    "    with torch.no_grad():\n",
    "        for name, param in model.named_parameters():\n",
    "            if param.requires_grad:\n",
    "                param.sub_(lmbda * fisher_info[name] * param)\n",
    "    print(\"Applied SSD unlearning step.\")\n",
    "\n",
    "print(\"Performing SSD unlearning...\")\n",
    "selective_synaptic_dampening(model, fisher_info, ssd_lambda)\n",
    "\n",
    "# ====================== Evaluate After Unlearning ======================\n",
    "post_loss, post_acc = evaluate(model, test_loader, criterion, device)\n",
    "print(f\"After SSD unlearning - Test loss: {post_loss:.4f}, Test acc: {post_acc:.4f}\")\n"
   ]
  },
  {
   "cell_type": "markdown",
   "id": "ed64b313",
   "metadata": {},
   "source": []
  }
 ],
 "metadata": {
  "kernelspec": {
   "display_name": "Python 3",
   "language": "python",
   "name": "python3"
  },
  "language_info": {
   "codemirror_mode": {
    "name": "ipython",
    "version": 3
   },
   "file_extension": ".py",
   "mimetype": "text/x-python",
   "name": "python",
   "nbconvert_exporter": "python",
   "pygments_lexer": "ipython3",
   "version": "3.10.12"
  }
 },
 "nbformat": 4,
 "nbformat_minor": 5
}
